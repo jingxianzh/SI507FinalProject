{
  "nbformat": 4,
  "nbformat_minor": 0,
  "metadata": {
    "colab": {
      "name": "Untitled0.ipynb",
      "provenance": [],
      "collapsed_sections": []
    },
    "kernelspec": {
      "name": "python3",
      "display_name": "Python 3"
    },
    "language_info": {
      "name": "python"
    }
  },
  "cells": [
    {
      "cell_type": "code",
      "execution_count": 3,
      "metadata": {
        "id": "U6LtC3rIfSYo",
        "colab": {
          "base_uri": "https://localhost:8080/"
        },
        "outputId": "4ff3ada8-b212-4e98-b818-4270540ff815"
      },
      "outputs": [
        {
          "output_type": "stream",
          "name": "stdout",
          "text": [
            "{}\n"
          ]
        }
      ],
      "source": [
        "import json\n",
        "\n",
        "def load_cache(CACHE_FILE_NAME):\n",
        "    try:\n",
        "        cache_file = open(CACHE_FILE_NAME, 'r')\n",
        "        cache_file_contents = cache_file.read()\n",
        "        cache = json.loads(cache_file_contents)\n",
        "        cache_file.close()\n",
        "    except:\n",
        "        cache = {}\n",
        "    return cache\n",
        "\n",
        "\n",
        "cache_json = 'cacheIMDB_TOP750.json'\n",
        "cache_dict = load_cache(cache_json)\n",
        "print(cache_dict)"
      ]
    }
  ]
}